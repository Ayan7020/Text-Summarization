{
 "cells": [
  {
   "cell_type": "code",
   "execution_count": 31,
   "metadata": {},
   "outputs": [],
   "source": [
    "import os"
   ]
  },
  {
   "cell_type": "code",
   "execution_count": 32,
   "metadata": {},
   "outputs": [
    {
     "data": {
      "text/plain": [
       "'d:\\\\Test Summ'"
      ]
     },
     "execution_count": 32,
     "metadata": {},
     "output_type": "execute_result"
    }
   ],
   "source": [
    "%pwd"
   ]
  },
  {
   "cell_type": "code",
   "execution_count": 3,
   "metadata": {},
   "outputs": [],
   "source": [
    "os.chdir('../')"
   ]
  },
  {
   "cell_type": "code",
   "execution_count": 4,
   "metadata": {},
   "outputs": [
    {
     "data": {
      "text/plain": [
       "'d:\\\\Test Summ'"
      ]
     },
     "execution_count": 4,
     "metadata": {},
     "output_type": "execute_result"
    }
   ],
   "source": [
    "%pwd"
   ]
  },
  {
   "cell_type": "code",
   "execution_count": 33,
   "metadata": {},
   "outputs": [],
   "source": [
    "from dataclasses import dataclass\n",
    "from pathlib import Path\n",
    "\n",
    "\n",
    "@dataclass(frozen=True)\n",
    "class ModelEvaluationConfig:\n",
    "    root_dir: Path\n",
    "    data_path: Path\n",
    "    model_path: Path\n",
    "    token_path: Path\n",
    "    metric_file_name: Path\n",
    "    "
   ]
  },
  {
   "cell_type": "code",
   "execution_count": 34,
   "metadata": {},
   "outputs": [],
   "source": [
    "from textSummarizer.constants import *\n",
    "from textSummarizer.utils.common import read_yaml, create_directories"
   ]
  },
  {
   "cell_type": "code",
   "execution_count": 39,
   "metadata": {},
   "outputs": [],
   "source": [
    "class ConfigurationManager:\n",
    "    def __init__(\n",
    "        self,\n",
    "        config_filepath = CONFIG_FILE_PATH,\n",
    "        params_filepath = PARAMS_FILE_PATH):\n",
    "\n",
    "        self.config = read_yaml(config_filepath)\n",
    "        self.params = read_yaml(params_filepath)\n",
    "        \n",
    "    def get_model_eval_config(self) -> ModelEvaluationConfig:\n",
    "        config = self.config.model_eval\n",
    "        create_directories([config.root_dir])\n",
    "        \n",
    "        model_eval_config = ModelEvaluationConfig(\n",
    "            root_dir=config.root_dir,\n",
    "            data_path=config.data_path,\n",
    "            model_path = config.model_path,\n",
    "            token_path = config.token_path,\n",
    "            metric_file_name = config.metric_file_name\n",
    "        )   \n",
    "        return model_eval_config "
   ]
  },
  {
   "cell_type": "code",
   "execution_count": 36,
   "metadata": {},
   "outputs": [],
   "source": [
    "from transformers import AutoModelForSeq2SeqLM, AutoTokenizer\n",
    "from datasets import load_dataset, load_from_disk, load_metric\n",
    "import torch\n",
    "import pandas as pd\n",
    "from tqdm import tqdm"
   ]
  },
  {
   "cell_type": "code",
   "execution_count": 37,
   "metadata": {},
   "outputs": [],
   "source": [
    "class ModelEvaluation:\n",
    "    def __init__(self, config: ModelEvaluationConfig):\n",
    "        self.config = config\n",
    "        \n",
    "    def generate_batch_sixe_chunk(self,list_of_element,batch_sixe):\n",
    "            for i in range(0,len(list_of_element),batch_sixe):\n",
    "                yield list_of_element[i : i+batch_sixe]\n",
    "                \n",
    "    def calculate_metric_on_test(self,dataset,metric,model,tokenixer,batch_sixe=16,column_text=\"article\",column_summary=\"highlights\"):\n",
    "        article_batch = list(self.generate_batch_sixe_chunk(dataset[column_text], batch_sixe))\n",
    "        target_batch =  list(self.generate_batch_sixe_chunk(dataset[column_summary], batch_sixe))     \n",
    "        \n",
    "        for article_batch,target_batch in tqdm(zip(article_batch, target_batch), total=len(article_batch)):\n",
    "            inputs = tokenixer(article_batch,max_length=1024,truncation=True,padding=\"max_length\",return_tensors=\"pt\") \n",
    "            summaries = model.generate(input_ids=inputs[\"input_ids\"],attention_mask=inputs[\"attention_mask\"],length_penalty=0.8, num_beams=8, max_length=128)\n",
    "            decoded_sum = [tokenixer.decode(s,skip_special_tokens=True,clean_up_tokenization_spaces=True) for s in summaries] \n",
    "            decoded_sum = [d.replace(\"\",\" \") for d in decoded_sum] \n",
    "            metric.add_batch(predictions=decoded_sum,references=target_batch)  \n",
    "            \n",
    "            score = metric.compute()\n",
    "            return score\n",
    "        \n",
    "    def evaluate(self):\n",
    "        tokenixer = AutoTokenizer.from_pretrained(self.config.token_path)\n",
    "        model = AutoModelForSeq2SeqLM.from_pretrained(self.config.model_path)   \n",
    "        \n",
    "        dataset_samsum_pt = load_from_disk(self.config.data_path)\n",
    "        rouge_names = [\"rouge1\", \"rouge2\", \"rougeL\", \"rougeLsum\"]\n",
    "        rouge_metric = load_metric('rouge')\n",
    "        \n",
    "        score = self.calculate_metric_on_test(\n",
    "            dataset_samsum_pt['test'][0:10],rouge_metric,model,tokenixer,batch_sixe=2,column_text = 'dialogue', column_summary= 'summary'\n",
    "        ) \n",
    "        \n",
    "        rouge_dict = dict((n,score[n].mid.fmeasure)for n in rouge_names)\n",
    "        \n",
    "        df = pd.DataFrame(rouge_dict, index = ['bart_model'] )\n",
    "        df.to_csv(self.config.metric_file_name, index=False)"
   ]
  },
  {
   "cell_type": "code",
   "execution_count": 40,
   "metadata": {},
   "outputs": [
    {
     "name": "stdout",
     "output_type": "stream",
     "text": [
      "[2024-01-15 22:12:50,638: INFO: common: yaml file: config\\config.yaml loaded successfully]\n",
      "[2024-01-15 22:12:50,641: INFO: common: yaml file: params.yaml loaded successfully]\n",
      "[2024-01-15 22:12:51,329: INFO: common: File Created artifacts/model_evaluation]\n"
     ]
    },
    {
     "name": "stderr",
     "output_type": "stream",
     "text": [
      "C:\\Users\\Adil\\AppData\\Roaming\\Python\\Python311\\site-packages\\datasets\\load.py:752: FutureWarning: The repository for rouge contains custom code which must be executed to correctly load the metric. You can inspect the repository content at https://raw.githubusercontent.com/huggingface/datasets/2.16.1/metrics/rouge/rouge.py\n",
      "You can avoid this message in future by passing the argument `trust_remote_code=True`.\n",
      "Passing `trust_remote_code=True` will be mandatory to load this metric from the next major release of `datasets`.\n",
      "  warnings.warn(\n",
      "  0%|          | 0/5 [00:00<?, ?it/s]"
     ]
    },
    {
     "name": "stdout",
     "output_type": "stream",
     "text": [
      "[2024-01-15 22:19:15,702: INFO: rouge_scorer: Using default tokenizer.]\n"
     ]
    },
    {
     "name": "stderr",
     "output_type": "stream",
     "text": [
      "  0%|          | 0/5 [03:40<?, ?it/s]\n"
     ]
    }
   ],
   "source": [
    "try:\n",
    "    config = ConfigurationManager()\n",
    "    model_evaluation_config = config.get_model_eval_config()\n",
    "    model_evaluation_config = ModelEvaluation(config=model_evaluation_config)\n",
    "    model_evaluation_config.evaluate()\n",
    "except Exception as e:\n",
    "    raise e"
   ]
  },
  {
   "cell_type": "code",
   "execution_count": null,
   "metadata": {},
   "outputs": [],
   "source": []
  }
 ],
 "metadata": {
  "kernelspec": {
   "display_name": "Python 3",
   "language": "python",
   "name": "python3"
  },
  "language_info": {
   "codemirror_mode": {
    "name": "ipython",
    "version": 3
   },
   "file_extension": ".py",
   "mimetype": "text/x-python",
   "name": "python",
   "nbconvert_exporter": "python",
   "pygments_lexer": "ipython3",
   "version": "3.11.4"
  }
 },
 "nbformat": 4,
 "nbformat_minor": 2
}
